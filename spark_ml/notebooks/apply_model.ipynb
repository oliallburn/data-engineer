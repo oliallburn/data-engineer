{
 "cells": [
  {
   "cell_type": "code",
   "execution_count": 1,
   "metadata": {},
   "outputs": [],
   "source": [
    "import org.apache.spark.sql.types.{StructType, StringType}\n",
    "import org.apache.spark.ml.{Pipeline, PipelineModel}\n",
    "import org.apache.spark.sql.functions._\n",
    "import org.apache.spark.sql.DataFrame"
   ]
  },
  {
   "cell_type": "code",
   "execution_count": 2,
   "metadata": {},
   "outputs": [
    {
     "name": "stdout",
     "output_type": "stream",
     "text": [
      "Current spark version is 2.4.5\n"
     ]
    }
   ],
   "source": [
    "println(s\"Current spark version is ${spark.version}\")"
   ]
  },
  {
   "cell_type": "code",
   "execution_count": 3,
   "metadata": {},
   "outputs": [
    {
     "data": {
      "text/plain": [
       "inputStreamPath = /home/jovyan/data/events-stream\n",
       "modelPath = /home/jovyan/models/spark-ml-model\n",
       "dataSchema = StructType(StructField(tweet,StringType,true))\n",
       "inputDF = [tweet: string]\n"
      ]
     },
     "metadata": {},
     "output_type": "display_data"
    },
    {
     "data": {
      "text/plain": [
       "[tweet: string]"
      ]
     },
     "execution_count": 3,
     "metadata": {},
     "output_type": "execute_result"
    }
   ],
   "source": [
    "val inputStreamPath = \"/home/jovyan/data/events-stream\"\n",
    "val modelPath = \"/home/jovyan/models/spark-ml-model\"\n",
    "\n",
    "val dataSchema = new StructType()\n",
    "    .add(\"tweet\", StringType)\n",
    "\n",
    "val inputDF = spark\n",
    "    .readStream\n",
    "    .schema(dataSchema)\n",
    "    .option(\"maxFilesPerTrigger\", 1)\n",
    "    .json(inputStreamPath)"
   ]
  },
  {
   "cell_type": "code",
   "execution_count": null,
   "metadata": {},
   "outputs": [],
   "source": [
    "val model = PipelineModel.load(modelPath)\n",
    "val predictionsDF = model.transform(inputDF)"
   ]
  },
  {
   "cell_type": "code",
   "execution_count": 6,
   "metadata": {},
   "outputs": [
    {
     "data": {
      "text/plain": [
       "model = pipeline_c6fbab19287b\n",
       "predictionsDF = [tweet: string, words: array<string> ... 4 more fields]\n",
       "getProbability = UserDefinedFunction(<function1>,DoubleType,Some(List(org.apache.spark.ml.linalg.VectorUDT@3bfc3ba7)))\n"
      ]
     },
     "metadata": {},
     "output_type": "display_data"
    },
    {
     "data": {
      "text/plain": [
       "lastException: Throwable = null\n"
      ]
     },
     "metadata": {},
     "output_type": "display_data"
    },
    {
     "data": {
      "text/plain": [
       "UserDefinedFunction(<function1>,DoubleType,Some(List(org.apache.spark.ml.linalg.VectorUDT@3bfc3ba7)))"
      ]
     },
     "execution_count": 6,
     "metadata": {},
     "output_type": "execute_result"
    }
   ],
   "source": [
    "import org.apache.spark.sql.functions._\n",
    "val getProbability = udf((prediction: org.apache.spark.ml.linalg.Vector) => prediction(1))"
   ]
  },
  {
   "cell_type": "code",
   "execution_count": 7,
   "metadata": {},
   "outputs": [
    {
     "data": {
      "text/plain": [
       "org.apache.spark.sql.execution.streaming.StreamingQueryWrapper@20315c72"
      ]
     },
     "execution_count": 7,
     "metadata": {},
     "output_type": "execute_result"
    },
    {
     "name": "stdout",
     "output_type": "stream",
     "text": [
      "+--------------------+--------------------+--------------------+--------------------+--------------------+----------+\n",
      "|               tweet|               words|            features|       rawPrediction|         probability|prediction|\n",
      "+--------------------+--------------------+--------------------+--------------------+--------------------+----------+\n",
      "|Off to run Santa ...|[off, to, run, sa...|(1000,[26,120,173...|[4.85525589321484...|[0.48552558932148...|       1.0|\n",
      "|I ate too much. N...|[i, ate, too, muc...|(1000,[98,196,329...|[5.62272968131892...|[0.56227296813189...|       0.0|\n",
      "|3rd june suprise ...|[3rd, june, supri...|(1000,[226,422,78...|[4.85525589321484...|[0.48552558932148...|       1.0|\n",
      "|@Trucco905 Yes th...|[@trucco905, yes,...|(1000,[48,122,206...|[5.80141001780464...|[0.58014100178046...|       0.0|\n",
      "|http://www.nytime...|[http://www.nytim...|(1000,[83,114,128...|[5.05140407788463...|[0.50514040778846...|       0.0|\n",
      "|chemistry tomorro...|[chemistry, tomor...|(1000,[2,35,64,11...|[4.91718559534674...|[0.49171855953467...|       1.0|\n",
      "|summer sucks when...|[summer, sucks, w...|(1000,[36,76,299,...|[5.05670449988886...|[0.50567044998888...|       0.0|\n",
      "| @erinsunday crappy |[@erinsunday, cra...|(1000,[4,976],[1....|[4.85525589321484...|[0.48552558932148...|       1.0|\n",
      "|@KirbyTheDog uh h...|[@kirbythedog, uh...|(1000,[15,82,146,...|[4.71725285835541...|[0.47172528583554...|       1.0|\n",
      "|Is fixing up her ...|[is, fixing, up, ...|(1000,[128,193,24...|[4.68593077737165...|[0.46859307773716...|       1.0|\n",
      "|@sethsimonds @cop...|[@sethsimonds, @c...|(1000,[60,157,281...|[4.82132651701425...|[0.48213265170142...|       1.0|\n",
      "+--------------------+--------------------+--------------------+--------------------+--------------------+----------+\n",
      "\n"
     ]
    }
   ],
   "source": [
    "// predictionsDF\n",
    "// .writeStream.\n",
    "// foreachBatch { (batchDF: DataFrame, batchId: Long) =>\n",
    "// batchDF.show()\n",
    "// }.start()"
   ]
  },
  {
   "cell_type": "code",
   "execution_count": 8,
   "metadata": {},
   "outputs": [
    {
     "name": "stdout",
     "output_type": "stream",
     "text": [
      "+--------------------+--------------------+\n",
      "|               tweet|negative_probability|\n",
      "+--------------------+--------------------+\n",
      "|Off to run Santa ...|  0.5144744106785156|\n",
      "|I ate too much. N...|  0.4377270318681079|\n",
      "|3rd june suprise ...|  0.5144744106785156|\n",
      "|@Trucco905 Yes th...|  0.4198589982195351|\n",
      "|http://www.nytime...| 0.49485959221153664|\n",
      "|chemistry tomorro...|  0.5082814404653254|\n",
      "|summer sucks when...| 0.49432955001111323|\n",
      "| @erinsunday crappy |  0.5144744106785156|\n",
      "|@KirbyTheDog uh h...|  0.5282747141644581|\n",
      "|Is fixing up her ...|  0.5314069222628344|\n",
      "|@sethsimonds @cop...|  0.5178673482985745|\n",
      "+--------------------+--------------------+\n",
      "\n"
     ]
    },
    {
     "data": {
      "text/plain": [
       "org.apache.spark.sql.execution.streaming.StreamingQueryWrapper@74cc2f32"
      ]
     },
     "execution_count": 8,
     "metadata": {},
     "output_type": "execute_result"
    }
   ],
   "source": [
    "predictionsDF\n",
    "    .select(\n",
    "        $\"tweet\",\n",
    "        getProbability ($\"probability\") as (\"negative_probability\"))\n",
    "    .writeStream\n",
    "    .foreachBatch {\n",
    "        (batchDF : DataFrame, batchId : Long) =>\n",
    "            batchDF.show ()\n",
    "}.start ()"
   ]
  },
  {
   "cell_type": "code",
   "execution_count": null,
   "metadata": {},
   "outputs": [],
   "source": []
  }
 ],
 "metadata": {
  "kernelspec": {
   "display_name": "Apache Toree - Scala",
   "language": "scala",
   "name": "apache_toree_scala"
  },
  "language_info": {
   "codemirror_mode": "text/x-scala",
   "file_extension": ".scala",
   "mimetype": "text/x-scala",
   "name": "scala",
   "pygments_lexer": "scala",
   "version": "2.11.12"
  }
 },
 "nbformat": 4,
 "nbformat_minor": 4
}
